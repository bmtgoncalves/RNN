{
 "cells": [
  {
   "cell_type": "markdown",
   "metadata": {},
   "source": [
    "<div align=\"center\"><h1>LSTM Tutorial in Keras</h1>\n",
    "<div>Bruno Gonçalves</div>\n",
    " <a href=\"http://www.bgoncalves.com/\" ><span style=\"font-size:90%;\">www.bgoncalves.com</span></a>\n",
    " </div>\n",
    "<!--h2 align=\"center\", style=\"font-size=150%\">Part I</h2-->"
   ]
  },
  {
   "cell_type": "code",
   "execution_count": 1,
   "metadata": {
    "collapsed": true
   },
   "outputs": [],
   "source": [
    "import numpy as np\n",
    "import re\n",
    "from collections import Counter\n",
    "import json\n",
    "\n",
    "from pprint import pprint\n",
    "import matplotlib.pyplot as plt\n",
    "\n",
    "%matplotlib inline"
   ]
  },
  {
   "cell_type": "code",
   "execution_count": 2,
   "metadata": {},
   "outputs": [
    {
     "name": "stderr",
     "output_type": "stream",
     "text": [
      "Using TensorFlow backend.\n"
     ]
    }
   ],
   "source": [
    "from keras.layers.recurrent import LSTM, GRU\n",
    "from keras.models import Sequential, load_model\n",
    "from keras.layers import Dense, Activation, Embedding\n",
    "from keras.optimizers import RMSprop"
   ]
  },
  {
   "cell_type": "code",
   "execution_count": 5,
   "metadata": {},
   "outputs": [
    {
     "name": "stdout",
     "output_type": "stream",
     "text": [
      "7845\n",
      "['the', 'and', 'I', 'of', 'to', 'my', 'a', 'in', 'was', 'that', 'me', 'with', 'had', 'which', 'but', 'you', 'not', 'his', 'for', 'as']\n"
     ]
    }
   ],
   "source": [
    "filename = \"Frankenstein.txt\"\n",
    "\n",
    "word_regex = re.compile(r'\\w+', re.U)\n",
    "\n",
    "text = \"\".join(open(filename, 'rt').readlines())\n",
    "\n",
    "text_words = word_regex.findall(text)\n",
    "\n",
    "word_counts = Counter(text_words)\n",
    "\n",
    "word_count_items = list(word_counts.items())\n",
    "word_count_items.sort(key=lambda x: x[1], reverse=True)\n",
    "\n",
    "word_list = [word for word, count in word_count_items]\n",
    "word_dict = dict(zip(word_list, range(len(word_count_items))))\n",
    "\n",
    "number_words = len(word_counts)\n",
    "\n",
    "print(number_words)\n",
    "print(word_list[:20])"
   ]
  },
  {
   "cell_type": "code",
   "execution_count": 4,
   "metadata": {},
   "outputs": [
    {
     "data": {
      "text/plain": [
       "2"
      ]
     },
     "execution_count": 4,
     "metadata": {},
     "output_type": "execute_result"
    }
   ],
   "source": [
    "word_dict['I']"
   ]
  },
  {
   "cell_type": "markdown",
   "metadata": {},
   "source": [
    "## Create inputs and labels\n",
    "\n",
    "We use a window of size __sequence_length__ size that moves __step__ by step over the text. Each such sequence corresponds to a sentence and a row in __input_words__. The word at the next position is our expected __label_words__."
   ]
  },
  {
   "cell_type": "code",
   "execution_count": 6,
   "metadata": {},
   "outputs": [
    {
     "name": "stdout",
     "output_type": "stream",
     "text": [
      "78596\n"
     ]
    }
   ],
   "source": [
    "sequence_length = 10\n",
    "step = 1\n",
    "\n",
    "input_words = []\n",
    "label_words = []\n",
    "for i in range(0, len(text_words) - sequence_length, step):\n",
    "    input_words.append(text_words[i:i + sequence_length])\n",
    "    label_words.append(text_words[i + sequence_length])\n",
    "    \n",
    "print(len(input_words))"
   ]
  },
  {
   "cell_type": "code",
   "execution_count": 8,
   "metadata": {},
   "outputs": [
    {
     "name": "stdout",
     "output_type": "stream",
     "text": [
      "['to', 'his', 'cabin', 'Even', 'broken', 'in', 'spirit', 'as', 'he', 'is']\n",
      "no\n",
      "['his', 'cabin', 'Even', 'broken', 'in', 'spirit', 'as', 'he', 'is', 'no']\n"
     ]
    }
   ],
   "source": [
    "print(input_words[5000])\n",
    "print(label_words[5000])\n",
    "print(input_words[5001])"
   ]
  },
  {
   "cell_type": "markdown",
   "metadata": {},
   "source": [
    "## Vectorization"
   ]
  },
  {
   "cell_type": "markdown",
   "metadata": {},
   "source": [
    "Now we one hot encode our words, generating a 3D tensor **X** of dimensions *len(input_words)* $\\times$ *sequence_length* $\\times$ *number_words*. This tensor will be all zeros except for one position per vector which will be one. For the sake of memory efficiency, we define it as a boolean tensor.\n",
    "\n",
    "Conversely, our expected output **y** is now a 2D matrix of dimensions *len(input_words)* $\\times$ *number_words*"
   ]
  },
  {
   "cell_type": "code",
   "execution_count": 9,
   "metadata": {},
   "outputs": [
    {
     "name": "stdout",
     "output_type": "stream",
     "text": [
      "(78596, 10, 7845)\n"
     ]
    }
   ],
   "source": [
    "X = np.zeros((len(input_words), sequence_length, number_words), dtype=np.bool)\n",
    "y = np.zeros((len(input_words), number_words), dtype=np.bool)\n",
    "\n",
    "for i, sentence in enumerate(input_words):\n",
    "    for t, word in enumerate(sentence):\n",
    "        X[i, t, word_dict[word]] = 1\n",
    "\n",
    "    y[i, word_dict[label_words[i]]] = 1\n",
    "    \n",
    "print(X.shape)"
   ]
  },
  {
   "cell_type": "markdown",
   "metadata": {},
   "source": [
    "Define some useful constants"
   ]
  },
  {
   "cell_type": "code",
   "execution_count": 10,
   "metadata": {
    "collapsed": true
   },
   "outputs": [],
   "source": [
    "HIDDEN_SIZE = 128\n",
    "BATCH_SIZE = 128\n",
    "NUM_ITERATIONS = 1\n",
    "NUM_EPOCHS_PER_ITERATION = 3\n",
    "NUM_PREDS_PER_EPOCH = 10"
   ]
  },
  {
   "cell_type": "markdown",
   "metadata": {},
   "source": [
    "Define the model"
   ]
  },
  {
   "cell_type": "code",
   "execution_count": 11,
   "metadata": {
    "collapsed": true
   },
   "outputs": [],
   "source": [
    "model_simple = Sequential()\n",
    "model_simple.add(GRU(HIDDEN_SIZE, input_shape=(sequence_length, number_words)))\n",
    "model_simple.add(Dense(number_words))\n",
    "model_simple.add(Activation('softmax'))"
   ]
  },
  {
   "cell_type": "markdown",
   "metadata": {},
   "source": [
    "## Model Compilation\n",
    "\n",
    "The final remaining step in defining our model is to \"compile\" it. This signals to Keras that we are done defining layers as well as defining the loss function and optimizer we wish to use. After this step we are ready to start learning our model!\n",
    "\n",
    "Here we opt to use the **RMSprop** optimizer with a learning rate of **0.01**, together with a **categorical_crossentropy** loss function. Naturally, other choices are possible. "
   ]
  },
  {
   "cell_type": "code",
   "execution_count": 12,
   "metadata": {
    "collapsed": true
   },
   "outputs": [],
   "source": [
    "optimizer = RMSprop(lr=0.01)\n",
    "model_simple.compile(loss='categorical_crossentropy', optimizer=optimizer)"
   ]
  },
  {
   "cell_type": "markdown",
   "metadata": {},
   "source": [
    "Before proceeding, let's take a look at the models internal representation. Keras provides us with a simple way of doing this:"
   ]
  },
  {
   "cell_type": "code",
   "execution_count": 14,
   "metadata": {},
   "outputs": [
    {
     "name": "stdout",
     "output_type": "stream",
     "text": [
      "_________________________________________________________________\n",
      "Layer (type)                 Output Shape              Param #   \n",
      "=================================================================\n",
      "gru_1 (GRU)                  (None, 128)               3062016   \n",
      "_________________________________________________________________\n",
      "dense_1 (Dense)              (None, 7845)              1012005   \n",
      "_________________________________________________________________\n",
      "activation_1 (Activation)    (None, 7845)              0         \n",
      "=================================================================\n",
      "Total params: 4,074,021\n",
      "Trainable params: 4,074,021\n",
      "Non-trainable params: 0\n",
      "_________________________________________________________________\n",
      "None\n"
     ]
    }
   ],
   "source": [
    "pprint(model_simple.summary())"
   ]
  },
  {
   "cell_type": "markdown",
   "metadata": {},
   "source": [
    "As expected, we three layers, **GRU**, **Dense** and **Activation**. The values of all their parameters (mostly default) are also clear."
   ]
  },
  {
   "cell_type": "markdown",
   "metadata": {},
   "source": [
    "## Model Traininig\n",
    "\n",
    "To train the model we need just call the model.fit method with the appropriate parameters. Here we define a training function that combines training multiple iterations with generating predictions based on a specific sentence."
   ]
  },
  {
   "cell_type": "code",
   "execution_count": 15,
   "metadata": {
    "collapsed": true
   },
   "outputs": [],
   "source": [
    "def train_model(model, X_train, y_train, val_split=0.1):\n",
    "    for iteration in range(NUM_ITERATIONS):\n",
    "        print(\"=\" * 50)\n",
    "        print(\"Iteration #: %d\" % (iteration))\n",
    "        \n",
    "        # We keep the history result of the trainig step. This provides us with \n",
    "        # valueable information about the training procedure that we may use later.\n",
    "        history = model.fit(X_train, y_train, \n",
    "                            validation_split=val_split,\n",
    "                            batch_size=BATCH_SIZE, epochs=NUM_EPOCHS_PER_ITERATION)\n",
    "\n",
    "        # Choose a specific sentence to use to generate the predictions \n",
    "        # and generate NUM_PREDS_PER_EPOCH predictions.\n",
    "        test_idx = 1502 \n",
    "        test_words = input_words[test_idx]\n",
    "        print(\"Generating from seed: \\\"%s\\\"\" % (\" \".join(test_words)))\n",
    "\n",
    "        for i in range(NUM_PREDS_PER_EPOCH):\n",
    "            Xtest = np.zeros((1, sequence_length, number_words))\n",
    "\n",
    "            for i, word in enumerate(test_words):\n",
    "                Xtest[0, i, word_dict[word]] = 1\n",
    "\n",
    "            pred = model.predict(Xtest, verbose=0)[0]\n",
    "            ypred = word_list[np.argmax(pred)]\n",
    "            print(\" \".join(test_words), \"=>\", ypred, end=\" \")\n",
    "\n",
    "            # Add the new word to the test instance and \n",
    "            # move the window forward 1 step\n",
    "            test_words = test_words[1:] + [ypred]\n",
    "\n",
    "            print()\n",
    "            \n",
    "    return history, model"
   ]
  },
  {
   "cell_type": "markdown",
   "metadata": {},
   "source": [
    "Train the model!\n",
    "\n",
    "Unfortunately, this takes a looooooong time without a GPU, so let's use just a small subset of our data for a quick check that all is fine. "
   ]
  },
  {
   "cell_type": "code",
   "execution_count": 16,
   "metadata": {
    "scrolled": false
   },
   "outputs": [
    {
     "name": "stdout",
     "output_type": "stream",
     "text": [
      "==================================================\n",
      "Iteration #: 0\n",
      "Train on 1500 samples, validate on 500 samples\n",
      "Epoch 1/3\n",
      "1500/1500 [==============================] - 65s 44ms/step - loss: 8.0080 - val_loss: 7.0498\n",
      "Epoch 2/3\n",
      "1500/1500 [==============================] - 52s 34ms/step - loss: 6.2252 - val_loss: 7.2898\n",
      "Epoch 3/3\n",
      "1500/1500 [==============================] - 47s 31ms/step - loss: 5.8157 - val_loss: 7.2729\n",
      "Generating from seed: \"of success there will be none to participate my joy\"\n",
      "of success there will be none to participate my joy => the \n",
      "success there will be none to participate my joy the => the \n",
      "there will be none to participate my joy the the => the \n",
      "will be none to participate my joy the the the => the \n",
      "be none to participate my joy the the the the => the \n",
      "none to participate my joy the the the the the => the \n",
      "to participate my joy the the the the the the => the \n",
      "participate my joy the the the the the the the => of \n",
      "my joy the the the the the the the of => the \n",
      "joy the the the the the the the of the => of \n"
     ]
    }
   ],
   "source": [
    "history, model_simple = train_model(model_simple, X[:2000, :,:], y[:2000, :], 0.25)"
   ]
  },
  {
   "cell_type": "markdown",
   "metadata": {},
   "source": [
    "## Save the model we trained for future use"
   ]
  },
  {
   "cell_type": "markdown",
   "metadata": {},
   "source": [
    "Keras provides us with a simple way to save the model condiguration. Unfortunately, this does not include the training history, just the final result. We save history in a json file."
   ]
  },
  {
   "cell_type": "code",
   "execution_count": 17,
   "metadata": {
    "collapsed": true
   },
   "outputs": [],
   "source": [
    "model_filename = \"lstm_bad\"\n",
    "history_dict = history.history\n",
    "\n",
    "model_simple.save(model_filename + \".h5\")\n",
    "json.dump(history_dict, open(model_filename + \".json\", \"w\"))"
   ]
  },
  {
   "cell_type": "markdown",
   "metadata": {},
   "source": [
    "## Load a pretrained model"
   ]
  },
  {
   "cell_type": "markdown",
   "metadata": {},
   "source": [
    "Now we can load a well trained model that is available to us! We also load the training history so that we may visualize it."
   ]
  },
  {
   "cell_type": "code",
   "execution_count": 18,
   "metadata": {
    "collapsed": true
   },
   "outputs": [],
   "source": [
    "history_dict = json.load(open(\"lstm_simple.json\", \"r\"))\n",
    "model_simple = load_model(\"lstm_simple.h5\")"
   ]
  },
  {
   "cell_type": "markdown",
   "metadata": {},
   "source": [
    "Let's check that the model architecture matches what we expect"
   ]
  },
  {
   "cell_type": "code",
   "execution_count": 19,
   "metadata": {},
   "outputs": [
    {
     "name": "stdout",
     "output_type": "stream",
     "text": [
      "[{'class_name': 'LSTM',\n",
      "  'config': {'activation': 'tanh',\n",
      "             'activity_regularizer': None,\n",
      "             'batch_input_shape': (None, 10, 7845),\n",
      "             'bias_constraint': None,\n",
      "             'bias_initializer': {'class_name': 'Zeros', 'config': {}},\n",
      "             'bias_regularizer': None,\n",
      "             'dropout': 0.0,\n",
      "             'dtype': 'float32',\n",
      "             'go_backwards': False,\n",
      "             'implementation': 1,\n",
      "             'kernel_constraint': None,\n",
      "             'kernel_initializer': {'class_name': 'VarianceScaling',\n",
      "                                    'config': {'distribution': 'uniform',\n",
      "                                               'mode': 'fan_avg',\n",
      "                                               'scale': 1.0,\n",
      "                                               'seed': None}},\n",
      "             'kernel_regularizer': None,\n",
      "             'name': 'lstm_1',\n",
      "             'recurrent_activation': 'hard_sigmoid',\n",
      "             'recurrent_constraint': None,\n",
      "             'recurrent_dropout': 0.0,\n",
      "             'recurrent_initializer': {'class_name': 'Orthogonal',\n",
      "                                       'config': {'gain': 1.0, 'seed': None}},\n",
      "             'recurrent_regularizer': None,\n",
      "             'return_sequences': False,\n",
      "             'return_state': False,\n",
      "             'stateful': False,\n",
      "             'trainable': True,\n",
      "             'unit_forget_bias': True,\n",
      "             'units': 128,\n",
      "             'unroll': False,\n",
      "             'use_bias': True}},\n",
      " {'class_name': 'Dense',\n",
      "  'config': {'activation': 'linear',\n",
      "             'activity_regularizer': None,\n",
      "             'bias_constraint': None,\n",
      "             'bias_initializer': {'class_name': 'Zeros', 'config': {}},\n",
      "             'bias_regularizer': None,\n",
      "             'kernel_constraint': None,\n",
      "             'kernel_initializer': {'class_name': 'VarianceScaling',\n",
      "                                    'config': {'distribution': 'uniform',\n",
      "                                               'mode': 'fan_avg',\n",
      "                                               'scale': 1.0,\n",
      "                                               'seed': None}},\n",
      "             'kernel_regularizer': None,\n",
      "             'name': 'dense_1',\n",
      "             'trainable': True,\n",
      "             'units': 7845,\n",
      "             'use_bias': True}},\n",
      " {'class_name': 'Activation',\n",
      "  'config': {'activation': 'softmax',\n",
      "             'name': 'activation_1',\n",
      "             'trainable': True}}]\n"
     ]
    }
   ],
   "source": [
    "pprint(model_simple.get_config())"
   ]
  },
  {
   "cell_type": "code",
   "execution_count": 20,
   "metadata": {},
   "outputs": [
    {
     "name": "stdout",
     "output_type": "stream",
     "text": [
      "_________________________________________________________________\n",
      "Layer (type)                 Output Shape              Param #   \n",
      "=================================================================\n",
      "lstm_1 (LSTM)                (None, 128)               4082688   \n",
      "_________________________________________________________________\n",
      "dense_1 (Dense)              (None, 7845)              1012005   \n",
      "_________________________________________________________________\n",
      "activation_1 (Activation)    (None, 7845)              0         \n",
      "=================================================================\n",
      "Total params: 5,094,693\n",
      "Trainable params: 5,094,693\n",
      "Non-trainable params: 0\n",
      "_________________________________________________________________\n"
     ]
    }
   ],
   "source": [
    "model_simple.summary()"
   ]
  },
  {
   "cell_type": "markdown",
   "metadata": {},
   "source": [
    "Yep, everything looks fine here. Now, left visualize the training history."
   ]
  },
  {
   "cell_type": "code",
   "execution_count": 21,
   "metadata": {},
   "outputs": [
    {
     "data": {
      "text/plain": [
       "<matplotlib.legend.Legend at 0x2bea55278>"
      ]
     },
     "execution_count": 21,
     "metadata": {},
     "output_type": "execute_result"
    },
    {
     "data": {
      "image/png": "[encoded data removed]",
      "text/plain": [
       "<Figure size 432x288 with 1 Axes>"
      ]
     },
     "metadata": {},
     "output_type": "display_data"
    }
   ],
   "source": [
    "loss = history_dict['loss']\n",
    "validation_loss = history_dict['val_loss']\n",
    "\n",
    "epochs = list(range(1, len(loss)+1))\n",
    "\n",
    "plt.plot(epochs, loss, 'bo', label='Training Loss')\n",
    "plt.plot(epochs, validation_loss, 'r', label = 'Validation Loss')\n",
    "plt.xlabel('Epochs')\n",
    "plt.ylabel('Loss')\n",
    "plt.legend()"
   ]
  },
  {
   "cell_type": "markdown",
   "metadata": {},
   "source": [
    "Finally, let's use this loaded model to make some predictions"
   ]
  },
  {
   "cell_type": "code",
   "execution_count": 22,
   "metadata": {},
   "outputs": [
    {
     "name": "stdout",
     "output_type": "stream",
     "text": [
      "Generating from seed: \"to his cabin Even broken in spirit as he is\"\n",
      "to his cabin Even broken in spirit as he is => the \n",
      "his cabin Even broken in spirit as he is the => to \n",
      "cabin Even broken in spirit as he is the to => had \n",
      "Even broken in spirit as he is the to had => in \n",
      "broken in spirit as he is the to had in => the \n",
      "in spirit as he is the to had in the => your \n",
      "spirit as he is the to had in the your => of \n",
      "as he is the to had in the your of => of \n",
      "he is the to had in the your of of => life \n",
      "is the to had in the your of of life => in \n"
     ]
    }
   ],
   "source": [
    "test_idx = 5000 \n",
    "test_words = input_words[test_idx]\n",
    "print(\"Generating from seed: \\\"%s\\\"\" % (\" \".join(test_words)))\n",
    "\n",
    "for i in range(NUM_PREDS_PER_EPOCH):\n",
    "    Xtest = np.zeros((1, sequence_length, number_words))\n",
    "\n",
    "    for i, word in enumerate(test_words):\n",
    "        Xtest[0, i, word_dict[word]] = 1\n",
    "\n",
    "    pred = model_simple.predict(Xtest, verbose=0)[0]\n",
    "    ypred = word_list[np.argmax(pred)]\n",
    "    print(\" \".join(test_words), \"=>\", ypred, end=\" \")\n",
    "    \n",
    "    # Add the new word to the test instance and \n",
    "    # move the window forward 1 step\n",
    "    test_words = test_words[1:] + [ypred]\n",
    "\n",
    "    print()"
   ]
  },
  {
   "cell_type": "code",
   "execution_count": null,
   "metadata": {
    "collapsed": true
   },
   "outputs": [],
   "source": []
  }
 ],
 "metadata": {
  "anaconda-cloud": {},
  "kernelspec": {
   "display_name": "Python [conda env:py35]",
   "language": "python",
   "name": "conda-env-py35-py"
  },
  "language_info": {
   "codemirror_mode": {
    "name": "ipython",
    "version": 3
   },
   "file_extension": ".py",
   "mimetype": "text/x-python",
   "name": "python",
   "nbconvert_exporter": "python",
   "pygments_lexer": "ipython3",
   "version": "3.5.2"
  }
 },
 "nbformat": 4,
 "nbformat_minor": 2
}
